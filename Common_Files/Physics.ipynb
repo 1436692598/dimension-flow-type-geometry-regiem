{
 "cells": [
  {
   "cell_type": "markdown",
   "metadata": {},
   "source": [
    "# CFD Problem's Physics & Theory\n",
    "\n",
    "**In developing CFD simulation for a fluid mechanic problem understanding the general physics and fundamental theory of the problem is extremely important. This knowledge would provide users the ability to make logical decision about the geometry of CFD domain, choice of proper boundary conditions and numerical models for the CFD simulation. Furthermore, user will have a general big picture on the expected outcome of simulation. These knowledges and abilities form the foundation for a successful implementation and validation of the CFD simulation.**\n",
    "\n",
    "**In other words understanding physics and theory of problem before developing a CFD simulation can be thought of turning on a flash light before taking any step in a completely dark room. Hence, let's review the fundamental physics and theory behind the problem of \"[insert the topic of problem here]\" as the first step for development and validation of CFD simulation for this problem of interest:**\n",
    "\n",
    "## How to Insert a Figure\n",
    "<img src=\"./Images/sample.jpg\" width=\"500\">\n",
    "</br>\n",
    "Fig.1 - The caption for the image goes here.\n",
    "\n",
    "## Write an Equation\n",
    "\n",
    "### Within Text Body\n",
    "Using single `$ <equation> $` symbol to put $y = \\delta ~,~ u = 0.99 ~U_e .$ equation within the text body.\n",
    "\n",
    "\n",
    "### Standalone\n",
    "Use double `$$ <equation> $$` symbol to put equation in standalone format:\n",
    "$$\n",
    "\\mathbf{R_{ext}} + \\mathbf{F_v} -\n",
    "\\int \\mathbf{n}~p~dA +\n",
    "\\int \\rho \\mathbf{g}~dV = \n",
    "\\frac{\\partial}{\\partial t} \\int \\rho \\mathbf{V} dV +\n",
    "\\int (\\mathbf{n}~.~\\rho \\mathbf{V}) \\mathbf{V} dA .\n",
    "$$\n",
    "\n",
    "\n",
    "## How to Cite Source(s)\n",
    "> For more details on the physics, theory and equation derivation please see chapter 9, section 9.2 of \"A Physical Introduction to Fluid Mechanics by Alexander J. Smits\" 2nd edition. [Download Book Here!](http://www.efluids.com/efluids/books/efluids_books.htm)"
   ]
  },
  {
   "cell_type": "code",
   "execution_count": null,
   "metadata": {
    "collapsed": true
   },
   "outputs": [],
   "source": []
  },
  {
   "cell_type": "code",
   "execution_count": null,
   "metadata": {
    "collapsed": true
   },
   "outputs": [],
   "source": []
  }
 ],
 "metadata": {
  "kernelspec": {
   "display_name": "Python 3",
   "language": "python",
   "name": "python3"
  },
  "language_info": {
   "codemirror_mode": {
    "name": "ipython",
    "version": 3
   },
   "file_extension": ".py",
   "mimetype": "text/x-python",
   "name": "python",
   "nbconvert_exporter": "python",
   "pygments_lexer": "ipython3",
   "version": "3.5.1"
  }
 },
 "nbformat": 4,
 "nbformat_minor": 0
}
